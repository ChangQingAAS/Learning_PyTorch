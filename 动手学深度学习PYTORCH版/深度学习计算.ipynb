{
 "cells": [
  {
   "cell_type": "code",
   "execution_count": 1,
   "id": "da294b8f",
   "metadata": {},
   "outputs": [],
   "source": [
    "%matplotlib inline\n",
    "import random\n",
    "import time \n",
    "import torch\n",
    "import torch.nn as nn\n",
    "from torch.nn import init\n",
    "import numpy as np\n",
    "import pandas as pd\n",
    "from IPython import display\n",
    "from collections import OrderedDict\n",
    "import sys\n",
    "import d2lzh as d2l\n",
    "from matplotlib import pyplot as plt\n",
    "from mpl_toolkits import mplot3d\n"
   ]
  },
  {
   "cell_type": "markdown",
   "id": "355540a2",
   "metadata": {},
   "source": [
    "## 4.1 模型构造\n"
   ]
  },
  {
   "cell_type": "markdown",
   "id": "042dd9ed",
   "metadata": {},
   "source": [
    "### 4.1.1 继承 MODULE 类来构造模型\n",
    "\n",
    "Module 类是 nn 模块⾥提供的⼀个模型构造类，是所有神经⽹络模块的基类，我们可以继承它来定义\n",
    "我们想要的模型。下⾯继承 Module 类构造本节开头提到的多层感知机。这⾥定义的 MLP 类᯿载了\n",
    "Module 类的 __init__ 函数和 forward 函数。它们分别⽤于创建模型参数和定义前向计算。前向计\n",
    "算也即正向传播。"
   ]
  },
  {
   "cell_type": "code",
   "execution_count": 5,
   "id": "fbfb2fb2",
   "metadata": {},
   "outputs": [],
   "source": [
    "import torch\n",
    "from torch import nn\n",
    "\n",
    "#  MLP`类中无须定义反向传播函数。\n",
    "#  系统将通过自动求梯度而自动生成反向传播所需的`backward`函数。\n",
    "\n",
    "class MLP(nn.Module):\n",
    "    # 声明带有模型参数的层，这里声明了两个全连接层\n",
    "    def __init__(self, **kwargs):\n",
    "        # 调用MLP父类Module的构造函数来进行必要的初始化。这样在构造实例时还可以指定其他函数\n",
    "        super(MLP, self).__init__(**kwargs)\n",
    "        self.hidden = nn.Linear(784, 256) # 隐藏层\n",
    "        self.act = nn.ReLU()\n",
    "        self.output = nn.Linear(256, 10)  # 输出层\n",
    "        \n",
    "    # 定义模型的前向计算，即如何根据输入x计算返回所需要的模型输出\n",
    "    def forward(self, x):\n",
    "        a = self.act(self.hidden(x))\n",
    "        return self.output(a)"
   ]
  },
  {
   "cell_type": "code",
   "execution_count": 6,
   "id": "e94e5cdc",
   "metadata": {},
   "outputs": [
    {
     "name": "stdout",
     "output_type": "stream",
     "text": [
      "MLP(\n",
      "  (hidden): Linear(in_features=784, out_features=256, bias=True)\n",
      "  (act): ReLU()\n",
      "  (output): Linear(in_features=256, out_features=10, bias=True)\n",
      ")\n"
     ]
    },
    {
     "data": {
      "text/plain": [
       "tensor([[-0.1991, -0.0735,  0.1910,  0.2626,  0.0196, -0.0159,  0.2549,  0.1652,\n",
       "          0.0731,  0.1161],\n",
       "        [-0.2521, -0.1676,  0.2670,  0.1349, -0.0023,  0.0757,  0.2278,  0.1291,\n",
       "         -0.0223, -0.0156]], grad_fn=<AddmmBackward>)"
      ]
     },
     "execution_count": 6,
     "metadata": {},
     "output_type": "execute_result"
    }
   ],
   "source": [
    "# 实例化MLP类得到模型变量net\n",
    "X = torch.rand(2,784)\n",
    "net = MLP()\n",
    "print(net)\n",
    "net(X).shape # 2 10\n",
    "net(X)"
   ]
  },
  {
   "cell_type": "markdown",
   "id": "a151577d",
   "metadata": {},
   "source": [
    "注意，这里并没有将`Module`类命名为`Layer`（层）或者`Model`（模型）之类的名字，这是因为该类是一个可供自由组建的部件。它的子类既可以是一个层（如PyTorch提供的`Linear`类），又可以是一个模型（如这里定义的`MLP`类），或者是模型的一个部分。我们下面通过两个例子来展示它的灵活性。\n",
    "\n",
    "## 4.1.2 `Module`的子类\n",
    "PyTorch还实现了继承自`Module`的可以方便构建模型的类: 如`Sequential`、`ModuleList`和`ModuleDict`等等。\n",
    "\n",
    "### 4.1.2.1 `Sequential`类\n",
    "当模型的前向计算为简单串联各个层的计算时，`Sequential`类可以通过更加简单的方式定义模型。这正是`Sequential`类的目的：它可以接收一个子模块的有序字典（OrderedDict）或者一系列子模块作为参数来逐一添加`Module`的实例，而模型的前向计算就是将这些实例按添加的顺序逐一计算。"
   ]
  },
  {
   "cell_type": "code",
   "execution_count": 7,
   "id": "2deb9dcc",
   "metadata": {},
   "outputs": [
    {
     "name": "stdout",
     "output_type": "stream",
     "text": [
      "MySequential(\n",
      "  (0): Linear(in_features=784, out_features=256, bias=True)\n",
      "  (1): ReLU()\n",
      "  (2): Linear(in_features=256, out_features=10, bias=True)\n",
      ")\n"
     ]
    },
    {
     "data": {
      "text/plain": [
       "tensor([[-0.0277, -0.0718, -0.1027,  0.1011,  0.1867,  0.0779, -0.0737,  0.2161,\n",
       "          0.0721, -0.3300],\n",
       "        [ 0.1428, -0.1713,  0.0040, -0.1085,  0.1896,  0.0472, -0.0221,  0.1664,\n",
       "          0.0773, -0.2587]], grad_fn=<AddmmBackward>)"
      ]
     },
     "execution_count": 7,
     "metadata": {},
     "output_type": "execute_result"
    }
   ],
   "source": [
    "# 实现一个与`Sequential`类有相同功能的`MySequential`类\n",
    "\n",
    "class MySequential(nn.Module):\n",
    "    def __init__(self, *args):\n",
    "        super(MySequential, self).__init__()\n",
    "        if len(args) == 1 and isinstance(args[0], OrderedDict): # 如果传入的是一个OrderedDict\n",
    "            for key, module in args[0].items():\n",
    "                self.add_module(key, module)  # add_module方法会将module添加进self._modules(一个OrderedDict)\n",
    "        else:  # 传入的是一些Module\n",
    "            for idx, module in enumerate(args):\n",
    "                self.add_module(str(idx), module)\n",
    "    def forward(self, input):\n",
    "        # self._modules返回一个 OrderedDict，保证会按照成员添加时的顺序遍历成员\n",
    "        for module in self._modules.values():\n",
    "            input = module(input)\n",
    "        return input\n",
    "\n",
    "# 用`MySequential`类来实现前面描述的`MLP`类，\n",
    "# 并使用随机初始化的模型做一次前向计算。\n",
    "X = torch.rand(2,784)\n",
    "net = MySequential(\n",
    "        nn.Linear(784, 256),\n",
    "        nn.ReLU(),\n",
    "        nn.Linear(256, 10),\n",
    "        )\n",
    "print(net)\n",
    "net(X)\n",
    "\n",
    "# 可以观察到这里`MySequential`类的使用跟3.10节（多层感知机的简洁实现）中`Sequential`类的使用没什么区别。"
   ]
  },
  {
   "cell_type": "markdown",
   "id": "c004ffd5",
   "metadata": {},
   "source": [
    "#### 4.1.2.2 `ModuleList`类\n"
   ]
  },
  {
   "cell_type": "code",
   "execution_count": 8,
   "id": "07a20fd7",
   "metadata": {},
   "outputs": [
    {
     "name": "stdout",
     "output_type": "stream",
     "text": [
      "Linear(in_features=256, out_features=10, bias=True)\n",
      "ModuleList(\n",
      "  (0): Linear(in_features=784, out_features=256, bias=True)\n",
      "  (1): ReLU()\n",
      "  (2): Linear(in_features=256, out_features=10, bias=True)\n",
      ")\n"
     ]
    }
   ],
   "source": [
    "# `ModuleList`接收一个子模块的列表作为输入，然后也可以类似List那样进行append和extend操作:\n",
    "\n",
    "net = nn.ModuleList([nn.Linear(784, 256), nn.ReLU()])\n",
    "net.append(nn.Linear(256, 10)) # # 类似List的append操作\n",
    "print(net[-1])  # 类似List的索引访问\n",
    "print(net)\n",
    "# net(torch.zeros(1, 784)) # 会报NotImplementedError"
   ]
  },
  {
   "cell_type": "code",
   "execution_count": 30,
   "id": "b4af612c",
   "metadata": {},
   "outputs": [
    {
     "name": "stdout",
     "output_type": "stream",
     "text": [
      "Linear(in_features=784, out_features=256, bias=True)\n",
      "Linear(in_features=256, out_features=10, bias=True)\n",
      "ModuleDict(\n",
      "  (linear): Linear(in_features=784, out_features=256, bias=True)\n",
      "  (act): ReLU()\n",
      "  (output): Linear(in_features=256, out_features=10, bias=True)\n",
      ")\n",
      "<bound method Module.type of ModuleDict(\n",
      "  (linear): Linear(in_features=784, out_features=256, bias=True)\n",
      "  (act): ReLU()\n",
      "  (output): Linear(in_features=256, out_features=10, bias=True)\n",
      ")>\n"
     ]
    }
   ],
   "source": [
    "# 4.1.2.3 ModuleDict 类\n",
    "# ModuleDict 接收⼀个⼦模块的字典作为输⼊, 然后也可以类似字典那样进⾏添加访问操作:\n",
    "\n",
    "net = nn.ModuleDict({\n",
    "    'linear': nn.Linear(784, 256),\n",
    "    'act': nn.ReLU(),\n",
    "})\n",
    "net['output'] = nn.Linear(256, 10) # 添加\n",
    "print(net['linear']) # 访问\n",
    "print(net.output)\n",
    "print(net)\n",
    "print(net.type)"
   ]
  },
  {
   "cell_type": "code",
   "execution_count": 31,
   "id": "127714a0",
   "metadata": {},
   "outputs": [
    {
     "name": "stdout",
     "output_type": "stream",
     "text": [
      "FancyMLP(\n",
      "  (linear1): Linear(in_features=20, out_features=20, bias=True)\n",
      "  (linear2): Linear(in_features=20, out_features=20, bias=True)\n",
      ")\n"
     ]
    },
    {
     "data": {
      "text/plain": [
       "tensor(0.3230, grad_fn=<SumBackward0>)"
      ]
     },
     "execution_count": 31,
     "metadata": {},
     "output_type": "execute_result"
    }
   ],
   "source": [
    "# 4.1.3 构造复杂的模型\n",
    "# 通过 get_constant 函数创建训练中不被迭代的参数，即常数参数\n",
    "\n",
    "class FancyMLP(nn.Module):\n",
    "    def __init__(self, **kwargs):\n",
    "        super(FancyMLP, self).__init__(**kwargs)\n",
    "\n",
    "        # 注意参数权重rand_weight（不是可训练模型参数\n",
    "        self.rand_weight = torch.rand((20,20), requires_grad=True)\n",
    "        self.linear1 = nn.Linear(20,20)\n",
    "        self.linear2 = nn.Linear(20,20)\n",
    "\n",
    "    def forward(self,x):\n",
    "        x = self.linear1(x)\n",
    "        # 使⽤创建的常数参数，以及nn.functional中的relu函数和mm函数\n",
    "        x = nn.functional.relu(torch.mm(x, self.rand_weight.data) + 1)\n",
    "\n",
    "        # 复用全连接层，等价于两个全连接层共享参数\n",
    "        x = self.linear2(x)\n",
    "        # 控制流，这里我们需要调用item函数来返回标量进行比较\n",
    "        while x.norm().item() > 1:\n",
    "            x /= 2 \n",
    "        return x.sum()\n",
    "\n",
    "X = torch.rand(2, 20)\n",
    "net = FancyMLP()\n",
    "print(net)\n",
    "net(X)"
   ]
  },
  {
   "cell_type": "code",
   "execution_count": 32,
   "id": "17b017e5",
   "metadata": {},
   "outputs": [
    {
     "name": "stdout",
     "output_type": "stream",
     "text": [
      "Sequential(\n",
      "  (0): NestMLP(\n",
      "    (net): Sequential(\n",
      "      (0): Linear(in_features=40, out_features=30, bias=True)\n",
      "      (1): ReLU()\n",
      "    )\n",
      "  )\n",
      "  (1): Linear(in_features=30, out_features=20, bias=True)\n",
      "  (2): FancyMLP(\n",
      "    (linear1): Linear(in_features=20, out_features=20, bias=True)\n",
      "    (linear2): Linear(in_features=20, out_features=20, bias=True)\n",
      "  )\n",
      ")\n"
     ]
    },
    {
     "data": {
      "text/plain": [
       "tensor(0.8352, grad_fn=<SumBackward0>)"
      ]
     },
     "execution_count": 32,
     "metadata": {},
     "output_type": "execute_result"
    }
   ],
   "source": [
    "# 因为 FancyMLP 和 Sequential 类都是 Module 类的⼦类，所以我们可以嵌套调⽤它们\n",
    "\n",
    "class NestMLP(nn.Module):\n",
    "    def __init__(self, **kwargs):\n",
    "        super(NestMLP, self).__init__(**kwargs)\n",
    "        self.net = nn.Sequential(nn.Linear(40, 30), nn.ReLU())\n",
    "    def forward(self, x):\n",
    "        return self.net(x)\n",
    "\n",
    "net = nn.Sequential(NestMLP(), nn.Linear(30, 20), FancyMLP())\n",
    "\n",
    "X = torch.rand(2, 40)\n",
    "print(net)\n",
    "net(X)"
   ]
  },
  {
   "cell_type": "markdown",
   "id": "1a93d3e3",
   "metadata": {},
   "source": [
    "### 小结\n",
    "\n",
    "* 可以通过继承`Module`类来构造模型。\n",
    "* `Sequential`、`ModuleList`、`ModuleDict`类都继承自`Module`类。\n",
    "* 与`Sequential`不同，`ModuleList`和`ModuleDict`并没有定义一个完整的网络，它们只是将不同的模块存放在一起，需要自己定义`forward`函数。\n",
    "* 虽然`Sequential`等类可以使模型构造更加简单，但直接继承`Module`类可以极大地拓展模型构造的灵活性。"
   ]
  },
  {
   "cell_type": "markdown",
   "id": "6fc99e3d",
   "metadata": {},
   "source": [
    "## 4.2 模型参数的访问、初始化和共享\n",
    "\n"
   ]
  },
  {
   "cell_type": "code",
   "execution_count": 39,
   "id": "005286b8",
   "metadata": {},
   "outputs": [
    {
     "name": "stdout",
     "output_type": "stream",
     "text": [
      "<class 'generator'>\n",
      "0.net.0.weight               torch.Size([30, 40])\n",
      "0.net.0.bias               torch.Size([30])\n",
      "1.weight               torch.Size([20, 30])\n",
      "1.bias               torch.Size([20])\n",
      "2.linear1.weight               torch.Size([20, 20])\n",
      "2.linear1.bias               torch.Size([20])\n",
      "2.linear2.weight               torch.Size([20, 20])\n",
      "2.linear2.bias               torch.Size([20])\n"
     ]
    }
   ],
   "source": [
    "print(type(net.named_parameters()))\n",
    "for name, param in net.named_parameters():\n",
    "    print(name + \"              \", param.size())\n",
    "    # 参数的第一维是out_feature, 第二维才是in_feature ，这样做方便反向传播"
   ]
  },
  {
   "cell_type": "markdown",
   "id": "e7c8a619",
   "metadata": {},
   "source": [
    "可⻅返回的名字⾃动加上了层数的索引作为前缀。 我们再来访问 net 中单层的参数。对于使⽤ Sequential 类构造的神经⽹络，我们可以通过⽅括号 [] 来访问⽹络的任⼀层。索引0表示隐藏层为 Sequential 实例最先添加的层"
   ]
  },
  {
   "cell_type": "code",
   "execution_count": 62,
   "id": "1d682db7",
   "metadata": {},
   "outputs": [
    {
     "name": "stdout",
     "output_type": "stream",
     "text": [
      "net.0.weight      30      <class 'torch.nn.parameter.Parameter'>\n",
      "net.0.bias      30      <class 'torch.nn.parameter.Parameter'>\n"
     ]
    }
   ],
   "source": [
    "for name, param in net[0].named_parameters():\n",
    "    print(name + \"      \" + str(param.size()[0])+ \"     \",type(param) )\n",
    "# 返回的 param 的 类型为 torch.nn.parameter.Parameter ，\n",
    "# 其实这是 Tensor 的⼦类，\n",
    "# 和 Tensor 不同的是: 如果⼀个 Tensor 是 Parameter ，那么它会⾃动被添加到模型的参数列表⾥\n"
   ]
  },
  {
   "cell_type": "code",
   "execution_count": 63,
   "id": "1c6b8dcc",
   "metadata": {},
   "outputs": [
    {
     "name": "stdout",
     "output_type": "stream",
     "text": [
      "weight1\n"
     ]
    }
   ],
   "source": [
    "class MyModel(nn.Module):\n",
    "    def __init__(self, **kwargs):\n",
    "        super(MyModel, self).__init__(**kwargs)\n",
    "        self.weight1 = nn.Parameter(torch.rand(20, 20))\n",
    "        self.weight2 = torch.rand(20, 20)\n",
    "    def forward(self, x):\n",
    "        pass\n",
    "\n",
    "n = MyModel()\n",
    "for name, param in n.named_parameters():\n",
    "    print(name)\n",
    "\n",
    "# 上⾯的代码中 weight1 在参数列表中但是 weight2 却没在参数列表中。"
   ]
  },
  {
   "cell_type": "code",
   "execution_count": 66,
   "id": "753b2685",
   "metadata": {},
   "outputs": [
    {
     "name": "stdout",
     "output_type": "stream",
     "text": [
      "Sequential(\n",
      "  (0): Linear(in_features=4, out_features=3, bias=True)\n",
      "  (1): ReLU()\n",
      "  (2): Linear(in_features=3, out_features=1, bias=True)\n",
      ")\n",
      "tensor([[-0.1242, -0.2150, -0.4615, -0.3180],\n",
      "        [-0.0213,  0.4751,  0.4132,  0.0173],\n",
      "        [-0.1988, -0.3748,  0.4249, -0.3855]])\n",
      "None\n",
      "tensor([[ 0.0000,  0.0000,  0.0000,  0.0000],\n",
      "        [-0.2167, -0.1316, -0.2432, -0.2800],\n",
      "        [ 0.0000,  0.0000,  0.0000,  0.0000]])\n"
     ]
    }
   ],
   "source": [
    "# 因为 Parameter 是 Tensor ，即 Tensor 拥有的属性它都有，⽐如可以根据 data 来访问参数数值，⽤grad 来访问参数梯度。\n",
    "\n",
    "net = nn.Sequential(nn.Linear(4, 3), nn.ReLU(), nn.Linear(3, 1)) #pytorch已进⾏默认初始化\n",
    "print(net)\n",
    "X = torch.rand(2, 4)\n",
    "# print(net(X).size())\n",
    "Y = net(X).sum()\n",
    "\n",
    "weight_0 = list(net[0].parameters())[0]\n",
    "print(weight_0.data)\n",
    "print(weight_0.grad) # 反向传播前梯度为None\n",
    "Y.backward()\n",
    "print(weight_0.grad)"
   ]
  },
  {
   "cell_type": "markdown",
   "id": "835c3f89",
   "metadata": {},
   "source": [
    "### 4.2.2 初始化模型参数\n",
    "PyTorch的 init 模块⾥提供了多种预设的初始化⽅法"
   ]
  },
  {
   "cell_type": "code",
   "execution_count": 87,
   "id": "7ece90ac",
   "metadata": {},
   "outputs": [
    {
     "name": "stdout",
     "output_type": "stream",
     "text": [
      "0.weight tensor([[-0.0017, -0.0051,  0.0115, -0.0095],\n",
      "        [ 0.0104, -0.0067, -0.0051, -0.0084],\n",
      "        [ 0.0064, -0.0026,  0.0140, -0.0034]])\n",
      "0.bias tensor([1.4013e-45, 1.4013e-45, 1.4013e-45])\n",
      "2.weight tensor([[-0.0162,  0.0008, -0.0028]])\n",
      "2.bias tensor([1.4013e-45])\n"
     ]
    }
   ],
   "source": [
    "for name, param in net.named_parameters():\n",
    "    if 'weight' in name:\n",
    "        init.normal_(param, mean=0, std=0.01)\n",
    "        print(name, param.data)\n",
    "\n",
    "    if 'bias' in name:\n",
    "        init.constant_(param, val=0.000000000000000000000000000000000000000000001)\n",
    "        # 最小可以表示到1.4013e-45\n",
    "        print(name, param.data)"
   ]
  },
  {
   "cell_type": "markdown",
   "id": "f329c71f",
   "metadata": {},
   "source": [
    "### 4.2.3 ⾃定义初始化⽅法"
   ]
  },
  {
   "cell_type": "markdown",
   "id": "28c42dcb",
   "metadata": {},
   "source": [
    "先来看看PyTorch是怎么实现这些初始化⽅法的，例\n",
    "如 torch.nn.init.normal_ ：\n",
    "``` python\n",
    "def normal_(tensor, mean=0, std=1):\n",
    "    with torch.no_grad():\n",
    "        return tensor.normal_(mean, std)\n",
    "```\n",
    "可以看到这就是一个inplace改变`Tensor`值的函数，而且这个过程是不记录梯度的。\n",
    "类似的我们来实现一个自定义的初始化方法。在下面的例子里，我们令权重有一半概率初始化为0，有另一半概率初始化为$[-10,-5]$和$[5,10]$两个区间里均匀分布的随机数。"
   ]
  },
  {
   "cell_type": "code",
   "execution_count": 88,
   "id": "46f2e9d5",
   "metadata": {},
   "outputs": [
    {
     "name": "stdout",
     "output_type": "stream",
     "text": [
      "0.weight tensor([[ 0.0000, -0.0000, -0.0000,  9.1051],\n",
      "        [-5.5134,  0.0000,  0.0000, -8.2792],\n",
      "        [ 7.4978, -0.0000,  5.2010, -0.0000]])\n",
      "2.weight tensor([[9.9647, 0.0000, 0.0000]])\n"
     ]
    }
   ],
   "source": [
    "def init_weight_(tensor):\n",
    "    with torch.no_grad():\n",
    "        tensor.uniform_(-10,10)\n",
    "        tensor *= (tensor.abs() >= 5).float()\n",
    "\n",
    "for name,param in net.named_parameters():\n",
    "    if 'weight' in name:\n",
    "        init_weight_(param)\n",
    "        print(name,param.data)"
   ]
  },
  {
   "cell_type": "code",
   "execution_count": 85,
   "id": "8532e1c7",
   "metadata": {},
   "outputs": [
    {
     "name": "stdout",
     "output_type": "stream",
     "text": [
      "0.bias tensor([1., 1., 1.])\n",
      "2.bias tensor([1.])\n"
     ]
    }
   ],
   "source": [
    "# 此外，参考2.3.2节，我们还可以通过改变这些参数的`data`来改写模型参数值同时不会影响梯度:\n",
    "\n",
    "for name, param in net.named_parameters():\n",
    "    if 'bias' in name:\n",
    "        param.data += 1\n",
    "        print(name, param.data)"
   ]
  },
  {
   "cell_type": "markdown",
   "id": "dbebc080",
   "metadata": {},
   "source": [
    "### 4.2.4 共享模型参数"
   ]
  },
  {
   "cell_type": "code",
   "execution_count": 90,
   "id": "a52a6acb",
   "metadata": {},
   "outputs": [
    {
     "name": "stdout",
     "output_type": "stream",
     "text": [
      "Sequential(\n",
      "  (0): Linear(in_features=1, out_features=1, bias=False)\n",
      "  (1): Linear(in_features=1, out_features=1, bias=False)\n",
      ")\n",
      "0.weight tensor([[3.5456]])\n"
     ]
    }
   ],
   "source": [
    "linear = nn.Linear(1, 1, bias=False)\n",
    "net = nn.Sequential(linear, linear)\n",
    "print(net)\n",
    "for name, param in net.named_parameters():\n",
    "    init.constant_(param, val=3.54564)\n",
    "    print(name, param.data)"
   ]
  },
  {
   "cell_type": "code",
   "execution_count": 91,
   "id": "e753b2d5",
   "metadata": {},
   "outputs": [
    {
     "name": "stdout",
     "output_type": "stream",
     "text": [
      "True\n",
      "True\n"
     ]
    }
   ],
   "source": [
    "# 在内存中，这两个线性层其实⼀个对象\n",
    "\n",
    "print(id(net[0]) == id(net[1]))\n",
    "print(id(net[0].weight) == id(net[1].weight))"
   ]
  },
  {
   "cell_type": "markdown",
   "id": "4aeb933f",
   "metadata": {},
   "source": [
    "## 4.4 自定义层\n"
   ]
  },
  {
   "cell_type": "markdown",
   "id": "60af829b",
   "metadata": {},
   "source": [
    "### 4.4.1 不含模型参数的⾃定义层\n",
    "\n",
    "事实上，这和4.1节（模型构造）中介绍的使用`Module`类构造模型类似。\n",
    "\n",
    "下面的`CenteredLayer`类通过继承`Module`类自定义了一个将输入减掉均值后输出的层，并将层的计算定义在了`forward`函数里。这个层里不含模型参数。"
   ]
  },
  {
   "cell_type": "code",
   "execution_count": 110,
   "id": "e66f3e0e",
   "metadata": {},
   "outputs": [
    {
     "name": "stdout",
     "output_type": "stream",
     "text": [
      "tensor([-2., -1.,  0.,  1.,  2.])\n",
      "tensor([[-0.4292,  0.8402,  1.8179],\n",
      "        [-0.4877, -0.1079,  0.3953]])\n",
      "tensor([[ 0.3679,  0.2933,  0.2149, -0.2526,  0.3231, -0.0442,  0.6749],\n",
      "        [-0.2053, -0.5973, -0.3714,  0.0150,  0.3235, -0.6463, -0.0955]],\n",
      "       grad_fn=<SubBackward0>)\n"
     ]
    },
    {
     "data": {
      "text/plain": [
       "1.4901161193847656e-08"
      ]
     },
     "execution_count": 110,
     "metadata": {},
     "output_type": "execute_result"
    }
   ],
   "source": [
    "class CenteredLayer(nn.Module):\n",
    "    def __init__(self, **kwargs):\n",
    "        super(CenteredLayer, self).__init__(**kwargs)\n",
    "    def forward(self, x):\n",
    "        # 这个层可以对传入的张量做偏差\n",
    "        return x - x.mean()\n",
    "\n",
    "layer = CenteredLayer()\n",
    "print(layer(torch.tensor([1, 2, 3, 4, 5], dtype=torch.float)))\n",
    "\n",
    "net = nn.Sequential(nn.Linear(3, 7), CenteredLayer())\n",
    "x = torch.randn(2,3)\n",
    "print(x)\n",
    "y = net(x)\n",
    "print(y)\n",
    "y.mean().item()\n",
    "# 因为均值是浮点数，所以它的值是⼀个很接近0的数。"
   ]
  },
  {
   "cell_type": "markdown",
   "id": "b685abb3",
   "metadata": {},
   "source": [
    "### 4.4.2 含模型参数的⾃定义层\n",
    "\n",
    "在4.2节（模型参数的访问、初始化和共享）中介绍了 Parameter 类其实是 Tensor 的⼦类，如果⼀\n",
    "个 Tensor 是 Parameter ，那么它会⾃动被添加到模型的参数列表⾥。所以在⾃定义含模型参数的层\n",
    "时，我们应该将参数定义成 Parameter ，除了像4.2.1节那样直接定义成 Parameter 类外，还可以使\n",
    "⽤ ParameterList 和 ParameterDict 分别定义参数的列表和字典。"
   ]
  },
  {
   "cell_type": "markdown",
   "id": "426824b2",
   "metadata": {},
   "source": [
    "ParameterList 接收⼀个 Parameter 实例的列表作为输⼊然后得到⼀个参数列表，使⽤的时候可以\n",
    "⽤索引来访问某个参数，另外也可以使⽤ append 和 extend 在列表后⾯新增参数"
   ]
  },
  {
   "cell_type": "code",
   "execution_count": 111,
   "id": "7f8620d7",
   "metadata": {},
   "outputs": [
    {
     "name": "stdout",
     "output_type": "stream",
     "text": [
      "MyListDense(\n",
      "  (params): ParameterList(\n",
      "      (0): Parameter containing: [torch.FloatTensor of size 4x4]\n",
      "      (1): Parameter containing: [torch.FloatTensor of size 4x4]\n",
      "      (2): Parameter containing: [torch.FloatTensor of size 4x4]\n",
      "      (3): Parameter containing: [torch.FloatTensor of size 4x1]\n",
      "  )\n",
      ")\n"
     ]
    }
   ],
   "source": [
    "class MyListDense(nn.Module):\n",
    "    def __init__(self):\n",
    "        super(MyListDense, self).__init__()\n",
    "        self.params = nn.ParameterList([nn.Parameter(torch.randn(4, 4)) for i in range(3)])\n",
    "        self.params.append(nn.Parameter(torch.randn(4, 1)))\n",
    "\n",
    "    def forward(self, x):\n",
    "        for i in range(len(self.params)):\n",
    "            x = torch.mm(x, self.params[i])\n",
    "        return x\n",
    "net = MyListDense()\n",
    "print(net)"
   ]
  },
  {
   "cell_type": "markdown",
   "id": "02af4974",
   "metadata": {},
   "source": [
    "⽽ ParameterDict 接收⼀个 Parameter 实例的字典作为输⼊然后得到⼀个参数字典，然后可以按照\n",
    "字典的规则使⽤了。例如使⽤ update() 新增参数，使⽤ keys() 返回所有键值，使⽤ items() 返回\n",
    "所有键值对等等"
   ]
  },
  {
   "cell_type": "code",
   "execution_count": 119,
   "id": "08a6bfac",
   "metadata": {},
   "outputs": [
    {
     "name": "stdout",
     "output_type": "stream",
     "text": [
      "MyDictDense(\n",
      "  (params): ParameterDict(\n",
      "      (linear1): Parameter containing: [torch.FloatTensor of size 4x4]\n",
      "      (linear2): Parameter containing: [torch.FloatTensor of size 4x1]\n",
      "      (linear3): Parameter containing: [torch.FloatTensor of size 4x2]\n",
      "  )\n",
      ")\n"
     ]
    }
   ],
   "source": [
    "class MyDictDense(nn.Module):\n",
    "    def __init__(self):\n",
    "        super(MyDictDense, self).__init__()\n",
    "        self.params = nn.ParameterDict({\n",
    "                'linear1': nn.Parameter(torch.randn(4, 4)),\n",
    "                'linear2': nn.Parameter(torch.randn(4, 1))\n",
    "        })\n",
    "        self.params.update({'linear3': nn.Parameter(torch.randn(4, 2))}) # 新增\n",
    "\n",
    "    def forward(self, x, choice='linear1'):\n",
    "        return torch.mm(x, self.params[choice])\n",
    "\n",
    "net = MyDictDense()\n",
    "print(net)"
   ]
  },
  {
   "cell_type": "code",
   "execution_count": 120,
   "id": "cbe2146d",
   "metadata": {},
   "outputs": [
    {
     "name": "stdout",
     "output_type": "stream",
     "text": [
      "tensor([[ 0.5758, -0.4139, -3.3797, -0.6538]], grad_fn=<MmBackward>)\n",
      "tensor([[-3.5856]], grad_fn=<MmBackward>)\n",
      "tensor([[-2.8493, -1.6094]], grad_fn=<MmBackward>)\n"
     ]
    }
   ],
   "source": [
    "# 这样就可以根据传⼊的键值来进⾏不同的前向传播：\n",
    "x = torch.ones(1, 4)\n",
    "\n",
    "print(net(x, 'linear1'))\n",
    "print(net(x, 'linear2'))\n",
    "print(net(x, 'linear3'))\n"
   ]
  },
  {
   "cell_type": "code",
   "execution_count": 121,
   "id": "bdd52165",
   "metadata": {},
   "outputs": [
    {
     "name": "stdout",
     "output_type": "stream",
     "text": [
      "Sequential(\n",
      "  (0): MyDictDense(\n",
      "    (params): ParameterDict(\n",
      "        (linear1): Parameter containing: [torch.FloatTensor of size 4x4]\n",
      "        (linear2): Parameter containing: [torch.FloatTensor of size 4x1]\n",
      "        (linear3): Parameter containing: [torch.FloatTensor of size 4x2]\n",
      "    )\n",
      "  )\n",
      "  (1): MyListDense(\n",
      "    (params): ParameterList(\n",
      "        (0): Parameter containing: [torch.FloatTensor of size 4x4]\n",
      "        (1): Parameter containing: [torch.FloatTensor of size 4x4]\n",
      "        (2): Parameter containing: [torch.FloatTensor of size 4x4]\n",
      "        (3): Parameter containing: [torch.FloatTensor of size 4x1]\n",
      "    )\n",
      "  )\n",
      ")\n",
      "tensor([[74.2190]], grad_fn=<MmBackward>)\n"
     ]
    }
   ],
   "source": [
    "# 也可以使⽤⾃定义层构造模型\n",
    "\n",
    "net = nn.Sequential(\n",
    "    MyDictDense(),\n",
    "    MyListDense(),\n",
    ")\n",
    "print(net)\n",
    "print(net(x))"
   ]
  },
  {
   "cell_type": "markdown",
   "id": "3a632e5c",
   "metadata": {},
   "source": [
    "## 4.5 读取和存储\n"
   ]
  },
  {
   "cell_type": "markdown",
   "id": "2d0bb418",
   "metadata": {},
   "source": [
    "在实际中，我们\n",
    "有时需要把训练好的模型部署到很多不同的设备。在这种情况下，我们可以把内存中训练好的模型参数\n",
    "存储在硬盘上供后续读取使⽤"
   ]
  },
  {
   "cell_type": "code",
   "execution_count": 114,
   "id": "0ae34019",
   "metadata": {},
   "outputs": [
    {
     "data": {
      "text/plain": [
       "{'x': tensor([1., 1., 1.]), 'y': tensor([0., 0., 0., 0.])}"
      ]
     },
     "execution_count": 114,
     "metadata": {},
     "output_type": "execute_result"
    }
   ],
   "source": [
    "# 4.5.1 读写 TENSOR\n",
    "\n",
    "x = torch.ones(3)\n",
    "y = torch.zeros(4)\n",
    "torch.save([x, y], 'xy.pt')\n",
    "xy_list = torch.load('xy.pt')\n",
    "xy_list\n",
    "\n",
    "torch.save({'x': x, 'y': y}, 'xy_dict.pt')\n",
    "xy = torch.load('xy_dict.pt')\n",
    "xy"
   ]
  },
  {
   "cell_type": "markdown",
   "id": "3ca98ec5",
   "metadata": {},
   "source": [
    "### 4.5.2 读写模型\n",
    "在 PyTorch 中 ， Module 的 可 学 习 参 数 ( 即权᯿和偏差 ) ，模块模型包含在参数中 ( 通 过\n",
    "model.parameters() 访问)。 state_dict 是⼀个从参数名称隐射到参数 Tesnor 的字典对象。\n"
   ]
  },
  {
   "cell_type": "code",
   "execution_count": 115,
   "id": "0b14a7e5",
   "metadata": {},
   "outputs": [
    {
     "data": {
      "text/plain": [
       "OrderedDict([('hidden.weight',\n",
       "              tensor([[-0.5658, -0.2694, -0.3134],\n",
       "                      [-0.5666,  0.3352,  0.0934]])),\n",
       "             ('hidden.bias', tensor([-0.0631,  0.0924])),\n",
       "             ('output.weight', tensor([[ 0.1711, -0.1740]])),\n",
       "             ('output.bias', tensor([-0.5386]))])"
      ]
     },
     "execution_count": 115,
     "metadata": {},
     "output_type": "execute_result"
    }
   ],
   "source": [
    "class MLP(nn.Module):\n",
    "    def __init__(self):\n",
    "        super(MLP, self).__init__()\n",
    "        self.hidden = nn.Linear(3, 2)\n",
    "        self.act = nn.ReLU()\n",
    "        self.output = nn.Linear(2, 1)\n",
    "    def forward(self, x):\n",
    "        a = self.act(self.hidden(x))\n",
    "        return self.output(a)\n",
    "        \n",
    "net = MLP()\n",
    "net.state_dict()"
   ]
  },
  {
   "cell_type": "markdown",
   "id": "ad1551b5",
   "metadata": {},
   "source": [
    "注意，只有具有可学习参数的层(卷积层、线性层等)才有 state_dict 中的条⽬。\n",
    "\n",
    "优化器( optim )也有⼀个 state_dict ，其中包含关于优化器状态以及所使⽤的超参数的信息。"
   ]
  },
  {
   "cell_type": "code",
   "execution_count": 116,
   "id": "cb16d7c7",
   "metadata": {},
   "outputs": [
    {
     "data": {
      "text/plain": [
       "{'state': {},\n",
       " 'param_groups': [{'lr': 0.001,\n",
       "   'momentum': 0.9,\n",
       "   'dampening': 0,\n",
       "   'weight_decay': 0,\n",
       "   'nesterov': False,\n",
       "   'params': [0, 1, 2, 3]}]}"
      ]
     },
     "execution_count": 116,
     "metadata": {},
     "output_type": "execute_result"
    }
   ],
   "source": [
    "optimizer = torch.optim.SGD(net.parameters(), lr=0.001, momentum=0.9)\n",
    "optimizer.state_dict()"
   ]
  },
  {
   "cell_type": "markdown",
   "id": "3d511dbf",
   "metadata": {},
   "source": [
    "#### 4.5.2.2 保存和加载模型\n",
    "\n",
    "PyTorch中保存和加载训练模型有两种常见的方法:\n",
    "1. 仅保存和加载模型参数(`state_dict`)；\n",
    "2. 保存和加载整个模型。\n",
    "3. \n",
    "##### 1. 保存和加载`state_dict`(推荐方式)\n",
    "\n",
    "保存：\n",
    "``` python\n",
    "torch.save(model.state_dict(), PATH) # 推荐的文件后缀名是pt或pth\n",
    "```\n",
    "\n",
    "加载：\n",
    "``` python\n",
    "model = TheModelClass(*args, **kwargs)\n",
    "model.load_state_dict(torch.load(PATH))\n",
    "```\n",
    "\n",
    "##### 2. 保存和加载整个模型\n",
    "保存：\n",
    "``` python\n",
    "torch.save(model, PATH)\n",
    "```\n",
    "加载：\n",
    "``` python\n",
    "model = torch.load(PATH)\n",
    "```\n",
    "\n",
    "我们采用推荐的方法一来实验一下:\n",
    "``` python\n",
    "X = torch.randn(2, 3)\n",
    "Y = net(X)\n",
    "\n",
    "PATH = \"./net.pt\"\n",
    "torch.save(net.state_dict(), PATH)\n",
    "\n",
    "net2 = MLP()\n",
    "net2.load_state_dict(torch.load(PATH))\n",
    "Y2 = net2(X)\n",
    "Y2 == Y\n",
    "```\n",
    "输出：\n",
    "```\n",
    "tensor([[1],\n",
    "        [1]], dtype=torch.uint8)\n",
    "```\n",
    "\n",
    "因为这`net`和`net2`都有同样的模型参数，那么对同一个输入`X`的计算结果将会是一样的。上面的输出也验证了这一点。\n",
    "\n",
    "此外，还有一些其他使用场景，例如GPU与CPU之间的模型保存与读取、使用多块GPU的模型的存储等等，使用的时候可以参考[官方文档](https://pytorch.org/tutorials/beginner/saving_loading_models.html)。\n",
    "\n",
    "## 小结\n",
    "\n",
    "* 通过`save`函数和`load`函数可以很方便地读写`Tensor`。\n",
    "* 通过`save`函数和`load_state_dict`函数可以很方便地读写模型的参数。"
   ]
  }
 ],
 "metadata": {
  "interpreter": {
   "hash": "07efdcd4b820c98a756949507a4d29d7862823915ec7477944641bea022f4f62"
  },
  "kernelspec": {
   "display_name": "Python 3",
   "language": "python",
   "name": "python3"
  },
  "language_info": {
   "codemirror_mode": {
    "name": "ipython",
    "version": 3
   },
   "file_extension": ".py",
   "mimetype": "text/x-python",
   "name": "python",
   "nbconvert_exporter": "python",
   "pygments_lexer": "ipython3",
   "version": "3.8.10"
  },
  "toc": {
   "base_numbering": 1,
   "nav_menu": {},
   "number_sections": false,
   "sideBar": true,
   "skip_h1_title": false,
   "title_cell": "Table of Contents",
   "title_sidebar": "Contents",
   "toc_cell": false,
   "toc_position": {
    "height": "calc(100% - 180px)",
    "left": "10px",
    "top": "150px",
    "width": "243.594px"
   },
   "toc_section_display": true,
   "toc_window_display": false
  }
 },
 "nbformat": 4,
 "nbformat_minor": 5
}
